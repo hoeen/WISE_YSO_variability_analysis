{
 "cells": [
  {
   "cell_type": "markdown",
   "metadata": {},
   "source": [
    "# WISE Young Stellar Object Variability Analysis\n",
    "WISE 관측 데이터를 이용한 원시성의 밝기변화 시계열 데이터 분석 프로젝트입니다.  \n",
    "\n",
    "## 3. 원시성 밝기변화 분류 통계 및 의미 고찰 \n",
    "프로젝트의 마지막 단계입니다. 앞서 정의했던 밝기변화 형태에 따라 원시성을 분류하고, 수치적인 결과를 원시성의 진화 단계와 비교하여 밝기변화의 특징이 어떻게 변화하는지 설명합니다.\n",
    "\n",
    "by Wooseok Park  \n",
    "ref: https://iopscience.iop.org/article/10.3847/1538-4357/ac1745#apjac1745t6"
   ]
  },
  {
   "cell_type": "markdown",
   "metadata": {},
   "source": [
    "1. 원시성 진화 단계의 설명\n",
    "2. 진화 단계별 밝기 변화 차이 분석  \n",
    "- feature 별 분포도 (sd/sdfid, deltaw2, period, fap 등)\n",
    "- feature를 이용한 밝기변화 형태 분류 및 결과의 수치적 설명\n",
    "- 진화 단계와 밝기변화 단계의 비교. 수치적 결과\n"
   ]
  },
  {
   "cell_type": "markdown",
   "metadata": {},
   "source": [
    "### 1. 원시성의 진화 단계\n",
    "대부분 텅 비어 있는 우주 공간이지만 특정 지역에는 물질이 모여 있는 성간 구름 (molecular cloud)이 존재합니다.  \n",
    "성간 구름 내에서도 밀도가 높은 곳에서 모여 있는 물질들은 만유인력에 의해 서로 끌어당기게 되고, 눈덩이가 불어나듯 이러한 중력 수축이 가속화되면 마침내 별이 탄생하게 됩니다.   \n",
    "탄생 초기 별인 YSO의 진화 단계는 위에 설명한 과정 속에 아래와 같이 나누어집니다.  \n",
    "1) Class 0/I : 중심에 갓 탄생한 원시성이 있지만 주위로 아직 낙하하지 않은 차가운 먼지 구름에 둘러싸여 있습니다.  \n",
    "2) Class II : 바깥의 먼지 구름이 없어지고 원시성 주위로 두꺼운 물질의 원반 (protoplanetary disk)가 형성됩니다.  \n",
    "3) Class III : 중심의 원시성이 더욱 진화하면서 항성풍을 일으키고, 이로 인해 원반 대부분 물질이 바깥으로 날아가며 원반의 흔적 혹은 원시 행성들이 발견됩니다. 우리가 있는 태양계의 원시적 형태 또한 이와 같으리라 추측하고 있습니다.   \n",
    "\n",
    "\n",
    "![note](example_data/yso123.jpeg)   \n",
    "(Andrea Isella’s thesis, 2006)    \n"
   ]
  },
  {
   "cell_type": "code",
   "execution_count": null,
   "metadata": {},
   "outputs": [],
   "source": []
  },
  {
   "cell_type": "code",
   "execution_count": null,
   "metadata": {},
   "outputs": [],
   "source": []
  },
  {
   "cell_type": "markdown",
   "metadata": {},
   "source": []
  },
  {
   "cell_type": "markdown",
   "metadata": {},
   "source": []
  }
 ],
 "metadata": {
  "kernelspec": {
   "display_name": "Python 3.8.12 ('timezone')",
   "language": "python",
   "name": "python3"
  },
  "language_info": {
   "name": "python",
   "version": "3.8.12"
  },
  "orig_nbformat": 4,
  "vscode": {
   "interpreter": {
    "hash": "5a3df02161d6552838d6da620aa26473850755cf8f63fa5012945d7869e730f7"
   }
  }
 },
 "nbformat": 4,
 "nbformat_minor": 2
}
