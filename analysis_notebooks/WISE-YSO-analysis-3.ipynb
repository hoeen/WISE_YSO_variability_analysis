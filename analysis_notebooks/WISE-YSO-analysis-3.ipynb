{
 "cells": [
  {
   "cell_type": "markdown",
   "metadata": {},
   "source": [
    "# WISE Young Stellar Object Variability Analysis\n",
    "WISE 관측 데이터를 이용한 원시성의 밝기변화 시계열 데이터 분석 프로젝트입니다.  \n",
    "\n",
    "## 3. 원시성 밝기변화 분류 통계 및 의미 고찰 \n",
    "프로젝트의 마지막 단계입니다. 앞서 정의했던 밝기변화 형태에 따라 원시성을 분류하고, 수치적인 결과를 원시성의 진화 단계와 비교하여 밝기변화의 특징이 어떻게 변화하는지 설명합니다.\n",
    "\n",
    "by Wooseok Park  \n",
    "ref: https://iopscience.iop.org/article/10.3847/1538-4357/ac1745#apjac1745t6"
   ]
  },
  {
   "cell_type": "markdown",
   "metadata": {},
   "source": []
  }
 ],
 "metadata": {
  "language_info": {
   "name": "python"
  },
  "orig_nbformat": 4
 },
 "nbformat": 4,
 "nbformat_minor": 2
}
